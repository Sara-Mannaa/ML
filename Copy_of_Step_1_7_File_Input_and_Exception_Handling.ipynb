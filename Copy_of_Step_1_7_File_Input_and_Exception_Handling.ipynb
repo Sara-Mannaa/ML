{
  "nbformat": 4,
  "nbformat_minor": 0,
  "metadata": {
    "kernelspec": {
      "display_name": "Python 3",
      "language": "python",
      "name": "python3"
    },
    "language_info": {
      "codemirror_mode": {
        "name": "ipython",
        "version": 3
      },
      "file_extension": ".py",
      "mimetype": "text/x-python",
      "name": "python",
      "nbconvert_exporter": "python",
      "pygments_lexer": "ipython3",
      "version": "3.7.1"
    },
    "colab": {
      "name": "Copy of Step_1_7_File Input and Exception Handling.ipynb",
      "provenance": [],
      "include_colab_link": true
    }
  },
  "cells": [
    {
      "cell_type": "markdown",
      "metadata": {
        "id": "view-in-github",
        "colab_type": "text"
      },
      "source": [
        "<a href=\"https://colab.research.google.com/github/Sara-Mannaa/ML/blob/master/Copy_of_Step_1_7_File_Input_and_Exception_Handling.ipynb\" target=\"_parent\"><img src=\"https://colab.research.google.com/assets/colab-badge.svg\" alt=\"Open In Colab\"/></a>"
      ]
    },
    {
      "cell_type": "markdown",
      "metadata": {
        "id": "1UE_BJCHjHtM",
        "colab_type": "text"
      },
      "source": [
        "### File Input/Output\n",
        "\n",
        "File is a named location on disk to store related information. When we want to read from or write to a file we need to open it first. When we are done, it needs to be closed, so that resources that are tied with the file are freed.\n",
        "\n",
        "So in Python, a file operation takes place in the following order.\n",
        "1.\tOpen a file\n",
        "2.\tRead or write (perform operation)\n",
        "3.\tClose the file"
      ]
    },
    {
      "cell_type": "code",
      "metadata": {
        "id": "EkH1AuwEjHtN",
        "colab_type": "code",
        "colab": {}
      },
      "source": [
        "# Read input from console, input will read numeric values and throw error if a string value entered\n",
        "num = input(\"Enter a number: \")\n",
        "print (type(num))"
      ],
      "execution_count": 0,
      "outputs": []
    },
    {
      "cell_type": "markdown",
      "metadata": {
        "id": "zLfeijgfjHtT",
        "colab_type": "text"
      },
      "source": [
        "### Writing to a file"
      ]
    },
    {
      "cell_type": "code",
      "metadata": {
        "id": "YzRNj4qMjHtU",
        "colab_type": "code",
        "colab": {}
      },
      "source": [
        "# Set working directory\n",
        "import os\n",
        "\n",
        "# Print the working directory\n",
        "print (\"Current working directory is:\", os.getcwd())\n",
        "\n",
        "# Set working directory\n",
        "os.chdir('C:\\\\Users\\\\Manoh\\\\Documents')\n",
        "\n",
        "# Below code will create a file named vechicles and add the items. \\n is a newline character\n",
        "vechicles = ['scooter\\n', 'bike\\n', 'car\\n']\n",
        "f = open('vechicles.txt', 'w')\n",
        "f.writelines(vechicles)\n",
        "f.close()"
      ],
      "execution_count": 0,
      "outputs": []
    },
    {
      "cell_type": "markdown",
      "metadata": {
        "id": "usGJl2p2jHtW",
        "colab_type": "text"
      },
      "source": [
        "### Reading from file"
      ]
    },
    {
      "cell_type": "code",
      "metadata": {
        "id": "mcHofu4_jHtX",
        "colab_type": "code",
        "colab": {}
      },
      "source": [
        "f = open('vechicles.txt')\n",
        "print (f.readlines())\n",
        "f.close()"
      ],
      "execution_count": 0,
      "outputs": []
    },
    {
      "cell_type": "markdown",
      "metadata": {
        "id": "z2lZhX2gjHta",
        "colab_type": "text"
      },
      "source": [
        "### Exception Handling\n",
        "\n",
        "An exception is an error that happens during the execution of a program that disrupts the normal flow of the program's instructions. When a Python script encounters a situation that it cannot cope with, it raises an exception. Your program should be designed to handle both expected and unexpected errors. "
      ]
    },
    {
      "cell_type": "markdown",
      "metadata": {
        "id": "TPYGpGqljHta",
        "colab_type": "text"
      },
      "source": [
        "#### try and except\n",
        "A critical operation which can raise exception is placed inside the try clause and the code that handles exception is written in except clause"
      ]
    },
    {
      "cell_type": "code",
      "metadata": {
        "id": "8aEQBhXNjHtb",
        "colab_type": "code",
        "colab": {}
      },
      "source": [
        "import sys\n",
        "\n",
        "try:\n",
        "    a = 1\n",
        "    b = 1\n",
        "    print (\"Result of a/b: \", a / b)\n",
        "except (ZeroDivisionError):\n",
        "    print (\"Can't divide by zero\")\n",
        "except (TypeError):\n",
        "    print (\"Wrong data type, division is allowed on numeric data type only\")\n",
        "except:\n",
        "    print (\"Unexpected error occurred\", '\\n', \"Error Type: \", sys.exc_info()[0], '\\n', \"Error Msg: \", sys.exc_info()[1])"
      ],
      "execution_count": 0,
      "outputs": []
    },
    {
      "cell_type": "code",
      "metadata": {
        "id": "FgRIUFs9jHtf",
        "colab_type": "code",
        "colab": {}
      },
      "source": [
        "try:\n",
        "    a = 1\n",
        "    b = 0\n",
        "    print (a / b)\n",
        "except (ZeroDivisionError):\n",
        "    print (\"Can't divide by zero\")\n",
        "except (TypeError):\n",
        "    print (\"Wrong data type, division is allowed on numeric data type only\")\n",
        "except:\n",
        "    print (\"Unexpected error occurred\", '\\n', \"Error Type: \", sys.exc_info()[0], '\\n', \"Error Msg: \", sys.exc_info()[1])"
      ],
      "execution_count": 0,
      "outputs": []
    },
    {
      "cell_type": "code",
      "metadata": {
        "id": "NwxYjP6DjHti",
        "colab_type": "code",
        "colab": {}
      },
      "source": [
        "try:\n",
        "    a = 1\n",
        "    b = 0\n",
        "    print (A / b)\n",
        "except (ZeroDivisionError):\n",
        "    print (\"Can't divide by zero\")\n",
        "except (TypeError):\n",
        "    print (\"Wrong data type, division is allowed on numeric data type only\")\n",
        "except:\n",
        "    print (\"Unexpected error occurred\", '\\n', \"Error Type: \", sys.exc_info()[0], '\\n', \"Error Msg: \", sys.exc_info()[1])"
      ],
      "execution_count": 0,
      "outputs": []
    },
    {
      "cell_type": "markdown",
      "metadata": {
        "id": "TzATWdaJjHtl",
        "colab_type": "text"
      },
      "source": [
        "#### Finally\n",
        "This is an optional clause which is intended to define clean-up actions that must be executed under all circumstances. "
      ]
    },
    {
      "cell_type": "code",
      "metadata": {
        "id": "rAaX5rdHjHtl",
        "colab_type": "code",
        "colab": {}
      },
      "source": [
        "try:\n",
        "    f = open('C:\\\\Users\\Manoh\\\\Documents\\\\vechicles.txt')\n",
        "    s = f.readline()\n",
        "    print (s)\n",
        "    i = int(s.strip())\n",
        "except IOError as e:\n",
        "    print (\"I/O error({0}): {1}\".format(e.errno, e.strerror))\n",
        "except ValueError:\n",
        "    print (\"Could not convert data to an integer.\")\n",
        "except:\n",
        "    print (\"Unexpected error occurred\", '\\n', \"Error Type: \", sys.exc_info()[0], '\\n', \"Error Msg: \", sys.exc_info()[1])\n",
        "finally:\n",
        "    f.close()\n",
        "    print (\"file has been closed\")"
      ],
      "execution_count": 0,
      "outputs": []
    }
  ]
}