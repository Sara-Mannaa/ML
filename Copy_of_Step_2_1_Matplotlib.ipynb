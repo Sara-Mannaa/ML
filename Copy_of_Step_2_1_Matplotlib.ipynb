{
  "nbformat": 4,
  "nbformat_minor": 0,
  "metadata": {
    "anaconda-cloud": {},
    "kernelspec": {
      "display_name": "Python 3",
      "language": "python",
      "name": "python3"
    },
    "language_info": {
      "codemirror_mode": {
        "name": "ipython",
        "version": 3
      },
      "file_extension": ".py",
      "mimetype": "text/x-python",
      "name": "python",
      "nbconvert_exporter": "python",
      "pygments_lexer": "ipython3",
      "version": "3.7.1"
    },
    "colab": {
      "name": "Copy of Step_2_1_Matplotlib.ipynb",
      "provenance": [],
      "collapsed_sections": [],
      "toc_visible": true,
      "include_colab_link": true
    }
  },
  "cells": [
    {
      "cell_type": "markdown",
      "metadata": {
        "id": "view-in-github",
        "colab_type": "text"
      },
      "source": [
        "<a href=\"https://colab.research.google.com/github/Sara-Mannaa/ML/blob/master/Copy_of_Step_2_1_Matplotlib.ipynb\" target=\"_parent\"><img src=\"https://colab.research.google.com/assets/colab-badge.svg\" alt=\"Open In Colab\"/></a>"
      ]
    },
    {
      "cell_type": "markdown",
      "metadata": {
        "id": "o56AMAwtDMyr",
        "colab_type": "text"
      },
      "source": [
        "# Matplotlib\n",
        "\n",
        "Matplotlib is a numerical mathematics extension NumPy and a great package to view or present data in a pictorial or graphical format. It enables analyts and decision makers to see analytics presented visually, so they can grasp difficult concepts or identify new patterns. "
      ]
    },
    {
      "cell_type": "markdown",
      "metadata": {
        "id": "zjF0ib4fdKPc",
        "colab_type": "text"
      },
      "source": [
        "This is the most complicated of the three methods. I’ll show it for those that have uploaded CSV files into their Google Drive for workflow control. First, type in the following code: (put the CSV files in your drive in a folder called data inside the colab Notebooks)"
      ]
    },
    {
      "cell_type": "code",
      "metadata": {
        "id": "MswF4a3-Vbl0",
        "colab_type": "code",
        "colab": {}
      },
      "source": [
        "# Code to read csv file into Colaboratory:\n",
        "!pip install -U -q PyDrive\n",
        "import os\n",
        "from pydrive.auth import GoogleAuth\n",
        "from pydrive.drive import GoogleDrive\n",
        "from google.colab import auth\n",
        "from oauth2client.client import GoogleCredentials\n",
        "# Authenticate and create the PyDrive client.\n",
        "auth.authenticate_user()\n",
        "gauth = GoogleAuth()\n",
        "gauth.credentials = GoogleCredentials.get_application_default()\n",
        "drive = GoogleDrive(gauth)"
      ],
      "execution_count": 0,
      "outputs": []
    },
    {
      "cell_type": "code",
      "metadata": {
        "id": "Ey5UkJQNbQi8",
        "colab_type": "code",
        "outputId": "f24858ad-26df-4e35-8599-a62e58433999",
        "colab": {
          "base_uri": "https://localhost:8080/",
          "height": 280
        }
      },
      "source": [
        "!pip install PyDrive\n",
        "\n",
        "\n",
        "from pydrive.auth import GoogleAuth\n",
        "from pydrive.drive import GoogleDrive\n",
        "from google.colab import auth\n",
        "from oauth2client.client import GoogleCredentials\n",
        "import os\n",
        "\n",
        "class download_data_from_folder(object):\n",
        "    def __init__(self,path):\n",
        "        path_id = path[path.find('id=')+3:]\n",
        "        self.file_list = self.get_files_in_location(path_id)\n",
        "        self.unwrap_data(self.file_list)\n",
        "    def get_files_in_location(self,folder_id):\n",
        "        file_list = drive.ListFile({'q': \"'{}' in parents and trashed=false\".format(folder_id)}).GetList()\n",
        "        return file_list\n",
        "    def unwrap_data(self,file_list,directory='.'):\n",
        "        for i, file in enumerate(file_list):\n",
        "            print(str((i + 1) / len(file_list) * 100) + '% done copying')\n",
        "            if file['mimeType'].find('folder') != -1:\n",
        "                if not os.path.exists(os.path.join(directory, file['title'])):\n",
        "                    os.makedirs(os.path.join(directory, file['title']))\n",
        "                print('Copying folder ' + os.path.join(directory, file['title']))\n",
        "                self.unwrap_data(self.get_files_in_location(file['id']), os.path.join(directory, file['title']))\n",
        "            else:\n",
        "                if not os.path.exists(os.path.join(directory, file['title'])):\n",
        "                    downloaded = drive.CreateFile({'id': file['id']})\n",
        "                    downloaded.GetContentFile(os.path.join(directory, file['title']))\n",
        "        return None"
      ],
      "execution_count": 12,
      "outputs": [
        {
          "output_type": "stream",
          "text": [
            "Requirement already satisfied: PyDrive in /usr/local/lib/python3.6/dist-packages (1.3.1)\n",
            "Requirement already satisfied: google-api-python-client>=1.2 in /usr/local/lib/python3.6/dist-packages (from PyDrive) (1.7.12)\n",
            "Requirement already satisfied: PyYAML>=3.0 in /usr/local/lib/python3.6/dist-packages (from PyDrive) (3.13)\n",
            "Requirement already satisfied: oauth2client>=4.0.0 in /usr/local/lib/python3.6/dist-packages (from PyDrive) (4.1.3)\n",
            "Requirement already satisfied: uritemplate<4dev,>=3.0.0 in /usr/local/lib/python3.6/dist-packages (from google-api-python-client>=1.2->PyDrive) (3.0.1)\n",
            "Requirement already satisfied: google-auth-httplib2>=0.0.3 in /usr/local/lib/python3.6/dist-packages (from google-api-python-client>=1.2->PyDrive) (0.0.3)\n",
            "Requirement already satisfied: google-auth>=1.4.1 in /usr/local/lib/python3.6/dist-packages (from google-api-python-client>=1.2->PyDrive) (1.7.2)\n",
            "Requirement already satisfied: six<2dev,>=1.6.1 in /usr/local/lib/python3.6/dist-packages (from google-api-python-client>=1.2->PyDrive) (1.12.0)\n",
            "Requirement already satisfied: httplib2<1dev,>=0.17.0 in /usr/local/lib/python3.6/dist-packages (from google-api-python-client>=1.2->PyDrive) (0.17.0)\n",
            "Requirement already satisfied: pyasn1>=0.1.7 in /usr/local/lib/python3.6/dist-packages (from oauth2client>=4.0.0->PyDrive) (0.4.8)\n",
            "Requirement already satisfied: pyasn1-modules>=0.0.5 in /usr/local/lib/python3.6/dist-packages (from oauth2client>=4.0.0->PyDrive) (0.2.8)\n",
            "Requirement already satisfied: rsa>=3.1.4 in /usr/local/lib/python3.6/dist-packages (from oauth2client>=4.0.0->PyDrive) (4.0)\n",
            "Requirement already satisfied: cachetools<3.2,>=2.0.0 in /usr/local/lib/python3.6/dist-packages (from google-auth>=1.4.1->google-api-python-client>=1.2->PyDrive) (3.1.1)\n",
            "Requirement already satisfied: setuptools>=40.3.0 in /usr/local/lib/python3.6/dist-packages (from google-auth>=1.4.1->google-api-python-client>=1.2->PyDrive) (46.0.0)\n"
          ],
          "name": "stdout"
        }
      ]
    },
    {
      "cell_type": "code",
      "metadata": {
        "id": "40RvI3k3YrhR",
        "colab_type": "code",
        "outputId": "5313aa48-530b-41f4-8022-28266d3ec985",
        "colab": {
          "base_uri": "https://localhost:8080/",
          "height": 55
        }
      },
      "source": [
        "from google.colab import drive\n",
        "drive.mount('/content/drive')"
      ],
      "execution_count": 13,
      "outputs": [
        {
          "output_type": "stream",
          "text": [
            "Drive already mounted at /content/drive; to attempt to forcibly remount, call drive.mount(\"/content/drive\", force_remount=True).\n"
          ],
          "name": "stdout"
        }
      ]
    },
    {
      "cell_type": "code",
      "metadata": {
        "id": "9vLgvNGBbiF1",
        "colab_type": "code",
        "outputId": "080a2214-1eba-465b-c38d-d064f31f0111",
        "colab": {
          "base_uri": "https://localhost:8080/",
          "height": 349
        }
      },
      "source": [
        "data_path = 'https://drive.google.com/open?id=1u3NF4n5aGJq3uJdtyEdqg2xH7WRlWT1q'\n",
        "download_data_from_folder(data_path)"
      ],
      "execution_count": 14,
      "outputs": [
        {
          "output_type": "error",
          "ename": "AttributeError",
          "evalue": "ignored",
          "traceback": [
            "\u001b[0;31m---------------------------------------------------------------------------\u001b[0m",
            "\u001b[0;31mAttributeError\u001b[0m                            Traceback (most recent call last)",
            "\u001b[0;32m<ipython-input-14-4062321af917>\u001b[0m in \u001b[0;36m<module>\u001b[0;34m()\u001b[0m\n\u001b[1;32m      1\u001b[0m \u001b[0mdata_path\u001b[0m \u001b[0;34m=\u001b[0m \u001b[0;34m'https://drive.google.com/open?id=1u3NF4n5aGJq3uJdtyEdqg2xH7WRlWT1q'\u001b[0m\u001b[0;34m\u001b[0m\u001b[0;34m\u001b[0m\u001b[0m\n\u001b[0;32m----> 2\u001b[0;31m \u001b[0mdownload_data_from_folder\u001b[0m\u001b[0;34m(\u001b[0m\u001b[0mdata_path\u001b[0m\u001b[0;34m)\u001b[0m\u001b[0;34m\u001b[0m\u001b[0;34m\u001b[0m\u001b[0m\n\u001b[0m",
            "\u001b[0;32m<ipython-input-12-25ef6a9273d0>\u001b[0m in \u001b[0;36m__init__\u001b[0;34m(self, path)\u001b[0m\n\u001b[1;32m     11\u001b[0m     \u001b[0;32mdef\u001b[0m \u001b[0m__init__\u001b[0m\u001b[0;34m(\u001b[0m\u001b[0mself\u001b[0m\u001b[0;34m,\u001b[0m\u001b[0mpath\u001b[0m\u001b[0;34m)\u001b[0m\u001b[0;34m:\u001b[0m\u001b[0;34m\u001b[0m\u001b[0;34m\u001b[0m\u001b[0m\n\u001b[1;32m     12\u001b[0m         \u001b[0mpath_id\u001b[0m \u001b[0;34m=\u001b[0m \u001b[0mpath\u001b[0m\u001b[0;34m[\u001b[0m\u001b[0mpath\u001b[0m\u001b[0;34m.\u001b[0m\u001b[0mfind\u001b[0m\u001b[0;34m(\u001b[0m\u001b[0;34m'id='\u001b[0m\u001b[0;34m)\u001b[0m\u001b[0;34m+\u001b[0m\u001b[0;36m3\u001b[0m\u001b[0;34m:\u001b[0m\u001b[0;34m]\u001b[0m\u001b[0;34m\u001b[0m\u001b[0;34m\u001b[0m\u001b[0m\n\u001b[0;32m---> 13\u001b[0;31m         \u001b[0mself\u001b[0m\u001b[0;34m.\u001b[0m\u001b[0mfile_list\u001b[0m \u001b[0;34m=\u001b[0m \u001b[0mself\u001b[0m\u001b[0;34m.\u001b[0m\u001b[0mget_files_in_location\u001b[0m\u001b[0;34m(\u001b[0m\u001b[0mpath_id\u001b[0m\u001b[0;34m)\u001b[0m\u001b[0;34m\u001b[0m\u001b[0;34m\u001b[0m\u001b[0m\n\u001b[0m\u001b[1;32m     14\u001b[0m         \u001b[0mself\u001b[0m\u001b[0;34m.\u001b[0m\u001b[0munwrap_data\u001b[0m\u001b[0;34m(\u001b[0m\u001b[0mself\u001b[0m\u001b[0;34m.\u001b[0m\u001b[0mfile_list\u001b[0m\u001b[0;34m)\u001b[0m\u001b[0;34m\u001b[0m\u001b[0;34m\u001b[0m\u001b[0m\n\u001b[1;32m     15\u001b[0m     \u001b[0;32mdef\u001b[0m \u001b[0mget_files_in_location\u001b[0m\u001b[0;34m(\u001b[0m\u001b[0mself\u001b[0m\u001b[0;34m,\u001b[0m\u001b[0mfolder_id\u001b[0m\u001b[0;34m)\u001b[0m\u001b[0;34m:\u001b[0m\u001b[0;34m\u001b[0m\u001b[0;34m\u001b[0m\u001b[0m\n",
            "\u001b[0;32m<ipython-input-12-25ef6a9273d0>\u001b[0m in \u001b[0;36mget_files_in_location\u001b[0;34m(self, folder_id)\u001b[0m\n\u001b[1;32m     14\u001b[0m         \u001b[0mself\u001b[0m\u001b[0;34m.\u001b[0m\u001b[0munwrap_data\u001b[0m\u001b[0;34m(\u001b[0m\u001b[0mself\u001b[0m\u001b[0;34m.\u001b[0m\u001b[0mfile_list\u001b[0m\u001b[0;34m)\u001b[0m\u001b[0;34m\u001b[0m\u001b[0;34m\u001b[0m\u001b[0m\n\u001b[1;32m     15\u001b[0m     \u001b[0;32mdef\u001b[0m \u001b[0mget_files_in_location\u001b[0m\u001b[0;34m(\u001b[0m\u001b[0mself\u001b[0m\u001b[0;34m,\u001b[0m\u001b[0mfolder_id\u001b[0m\u001b[0;34m)\u001b[0m\u001b[0;34m:\u001b[0m\u001b[0;34m\u001b[0m\u001b[0;34m\u001b[0m\u001b[0m\n\u001b[0;32m---> 16\u001b[0;31m         \u001b[0mfile_list\u001b[0m \u001b[0;34m=\u001b[0m \u001b[0mdrive\u001b[0m\u001b[0;34m.\u001b[0m\u001b[0mListFile\u001b[0m\u001b[0;34m(\u001b[0m\u001b[0;34m{\u001b[0m\u001b[0;34m'q'\u001b[0m\u001b[0;34m:\u001b[0m \u001b[0;34m\"'{}' in parents and trashed=false\"\u001b[0m\u001b[0;34m.\u001b[0m\u001b[0mformat\u001b[0m\u001b[0;34m(\u001b[0m\u001b[0mfolder_id\u001b[0m\u001b[0;34m)\u001b[0m\u001b[0;34m}\u001b[0m\u001b[0;34m)\u001b[0m\u001b[0;34m.\u001b[0m\u001b[0mGetList\u001b[0m\u001b[0;34m(\u001b[0m\u001b[0;34m)\u001b[0m\u001b[0;34m\u001b[0m\u001b[0;34m\u001b[0m\u001b[0m\n\u001b[0m\u001b[1;32m     17\u001b[0m         \u001b[0;32mreturn\u001b[0m \u001b[0mfile_list\u001b[0m\u001b[0;34m\u001b[0m\u001b[0;34m\u001b[0m\u001b[0m\n\u001b[1;32m     18\u001b[0m     \u001b[0;32mdef\u001b[0m \u001b[0munwrap_data\u001b[0m\u001b[0;34m(\u001b[0m\u001b[0mself\u001b[0m\u001b[0;34m,\u001b[0m\u001b[0mfile_list\u001b[0m\u001b[0;34m,\u001b[0m\u001b[0mdirectory\u001b[0m\u001b[0;34m=\u001b[0m\u001b[0;34m'.'\u001b[0m\u001b[0;34m)\u001b[0m\u001b[0;34m:\u001b[0m\u001b[0;34m\u001b[0m\u001b[0;34m\u001b[0m\u001b[0m\n",
            "\u001b[0;31mAttributeError\u001b[0m: module 'google.colab.drive' has no attribute 'ListFile'"
          ]
        }
      ]
    },
    {
      "cell_type": "code",
      "metadata": {
        "id": "7lpGXMiF1MrP",
        "colab_type": "code",
        "colab": {}
      },
      "source": [
        ""
      ],
      "execution_count": 0,
      "outputs": []
    },
    {
      "cell_type": "code",
      "metadata": {
        "id": "xeLC-NNR1NGz",
        "colab_type": "code",
        "colab": {}
      },
      "source": [
        ""
      ],
      "execution_count": 0,
      "outputs": []
    },
    {
      "cell_type": "code",
      "metadata": {
        "id": "rXbb8hBLDMyy",
        "colab_type": "code",
        "colab": {}
      },
      "source": [
        "import numpy as np\n",
        "import pandas as pd\n",
        "from pandas import DataFrame, Series\n",
        "import matplotlib.pyplot as plt\n",
        "import matplotlib     \n",
        "%matplotlib inline  \n",
        "\n",
        "# Hide all warning messages\n",
        "import warnings\n",
        "warnings.filterwarnings('ignore')"
      ],
      "execution_count": 0,
      "outputs": []
    },
    {
      "cell_type": "markdown",
      "metadata": {
        "id": "9g6-g62NDMy3",
        "colab_type": "text"
      },
      "source": [
        "There are 2 broad ways of using pyplot:  \n",
        "* The most common and easy approach of using global functions to build and display a global figure using matplotlib as a global state machine\n",
        "\n",
        "* The second way is object oriented. You obtain an empty figure from a global factory, and then build the plot explicitly using the methods of the Figure and the classes it contains"
      ]
    },
    {
      "cell_type": "markdown",
      "metadata": {
        "id": "-2n0FK-jDMy4",
        "colab_type": "text"
      },
      "source": [
        "### Using global functions\n",
        "\n",
        "* plt.bar – creates a bar chart\n",
        "* plt.scatter – makes a scatter plot\n",
        "* plt.boxplot – makes a box and whisker plot\n",
        "* plt.hist – makes a histogram\n",
        "* plt.plot – creates a line plot"
      ]
    },
    {
      "cell_type": "code",
      "metadata": {
        "id": "VHb8nDGsDMy5",
        "colab_type": "code",
        "colab": {}
      },
      "source": [
        "# simple bar and scatter plot\n",
        "x = np.arange(5)          # assume there are 5 students\n",
        "y = (20, 35, 30, 35, 27)  # their test scores\n",
        "plt.bar(x,y)              # Barplot\n",
        "# need to close the figure using show() or close(), if not closed any follow up plot commands will use same figure. \n",
        "plt.show()                # Try commenting this an run\n",
        "plt.scatter(x,y)          # scatter plot\n",
        "plt.show()"
      ],
      "execution_count": 0,
      "outputs": []
    },
    {
      "cell_type": "code",
      "metadata": {
        "id": "q_25DHaQDMy_",
        "colab_type": "code",
        "colab": {}
      },
      "source": [
        "# You can also create the histogram, line graph and the boxplot directly on a dataframe\n",
        "df = pd.read_csv('Data/iris.csv')\n",
        "print(\"Histogram\")\n",
        "df.hist()"
      ],
      "execution_count": 0,
      "outputs": []
    },
    {
      "cell_type": "code",
      "metadata": {
        "id": "47oKdAj7DMzE",
        "colab_type": "code",
        "colab": {}
      },
      "source": [
        "print(\"Line graph\")\n",
        "df.plot()"
      ],
      "execution_count": 0,
      "outputs": []
    },
    {
      "cell_type": "code",
      "metadata": {
        "id": "DMn6kNJkDMzI",
        "colab_type": "code",
        "colab": {}
      },
      "source": [
        "print(\"Box plot\")\n",
        "df.boxplot()"
      ],
      "execution_count": 0,
      "outputs": []
    },
    {
      "cell_type": "markdown",
      "metadata": {
        "id": "ER1xBv8hDMzL",
        "colab_type": "text"
      },
      "source": [
        "### Customize axis labels"
      ]
    },
    {
      "cell_type": "code",
      "metadata": {
        "id": "BJB_RxzZDMzM",
        "colab_type": "code",
        "colab": {}
      },
      "source": [
        "# generate sample data\n",
        "x = np.linspace(0, 20, 1000)  #100 evenly-spaced values from 0 to 50\n",
        "y = np.sin(x)\n",
        "\n",
        "plt.plot(x, y) # simple line plot"
      ],
      "execution_count": 0,
      "outputs": []
    },
    {
      "cell_type": "code",
      "metadata": {
        "id": "64S3Qwx9DMzQ",
        "colab_type": "code",
        "colab": {}
      },
      "source": [
        "# customize axis labels\n",
        "plt.plot(x, y, label = 'Sample Label') \n",
        "plt.title('Sample Plot Title')                                # chart title \n",
        "plt.xlabel('x axis label')                                    # x axis title\n",
        "plt.ylabel('y axis label')                                    # y axis title\n",
        "plt.grid(True)                                                # show gridlines \n",
        "plt.figtext(0.995, 0.01, 'Footnote', ha='right', va='bottom') # add footnote\n",
        "plt.legend(loc='best', framealpha=0.5, prop={'size':'small'}) # add legend, location pick the best automatically\n",
        "\n",
        "# tight_layout() can take keyword arguments of pad, w_pad and h_pad.\n",
        "# these control the extra padding around the figure border and between subplots.\n",
        "# The pads are specified in fraction of fontsize.\n",
        "plt.tight_layout(pad=1)"
      ],
      "execution_count": 0,
      "outputs": []
    },
    {
      "cell_type": "code",
      "metadata": {
        "id": "i6eNLPPoDMzV",
        "colab_type": "code",
        "colab": {}
      },
      "source": [
        "# Saving chart to a file\n",
        "plt.savefig('filename.png') "
      ],
      "execution_count": 0,
      "outputs": []
    },
    {
      "cell_type": "code",
      "metadata": {
        "id": "Qc6ylGrRDMzZ",
        "colab_type": "code",
        "colab": {}
      },
      "source": [
        "plt.close()  # Close the current window to allow new plot creation on separate window / axis\n",
        "# Alternatively we can use show()\n",
        "plt.show()   # Note: also closes the window "
      ],
      "execution_count": 0,
      "outputs": []
    },
    {
      "cell_type": "markdown",
      "metadata": {
        "id": "f8PHulvADMze",
        "colab_type": "text"
      },
      "source": [
        "### Matplotlib: intro to the object oriented way \n",
        "\n",
        "The Figure is the top-level container for everything on a canvas. It was obtained from the global Figure factory. \n",
        "\n",
        "#### An Axes or Subplot (a subclass of Axes) \n",
        "\n",
        "An Axes is a container class for a specific plot. A figure may contain many Axes and/or Subplots. Subplots are laid out in a grid within the Figure. Axes can be placed anywhere on the Figure. \n",
        "\n",
        "ax = fig.add_subplot(2,2,1) # row-col-num \n",
        "ax = fig.add_axes([0.1,0.1,0.8,0.8])"
      ]
    },
    {
      "cell_type": "markdown",
      "metadata": {
        "id": "zdQjG6tKDMzf",
        "colab_type": "text"
      },
      "source": [
        "### All at once\n",
        "\n",
        "We can use the subplots factory to get the Figure and all the desired Axes at once. "
      ]
    },
    {
      "cell_type": "code",
      "metadata": {
        "id": "DR16e6Q_DMzg",
        "colab_type": "code",
        "colab": {}
      },
      "source": [
        "fig, ax = plt.subplots() \n",
        "fig,(ax1,ax2,ax3) = plt.subplots(nrows=3, ncols=1, sharex=True, figsize=(8,4))"
      ],
      "execution_count": 0,
      "outputs": []
    },
    {
      "cell_type": "code",
      "metadata": {
        "id": "Ed3xJYcODMzk",
        "colab_type": "code",
        "colab": {}
      },
      "source": [
        "# Iterating the Axes within a Figure \n",
        "for ax in fig.get_axes():\n",
        "    pass # do something "
      ],
      "execution_count": 0,
      "outputs": []
    },
    {
      "cell_type": "markdown",
      "metadata": {
        "id": "a-itNZjpDMzm",
        "colab_type": "text"
      },
      "source": [
        "### Line plots – using ax.plot() \n",
        "\n",
        "Single plot constructed with Figure and Axes "
      ]
    },
    {
      "cell_type": "code",
      "metadata": {
        "scrolled": true,
        "id": "9GaqG04cDMzn",
        "colab_type": "code",
        "colab": {}
      },
      "source": [
        "# generate sample data\n",
        "x = np.linspace(0, 20, 1000)\n",
        "y = np.sin(x)\n",
        "\n",
        "fig = plt.figure(figsize=(8,4))                        # get an empty figure and add an Axes \n",
        "ax = fig.add_subplot(1,1,1)                            # row-col-num \n",
        "ax.plot(x, y, 'b-', linewidth=3, label='Sample label') # line plot data on the Axes \n",
        "# add title, labels and legend, etc. \n",
        "ax.set_ylabel('y axis label', fontsize=16)             # y label\n",
        "ax.set_xlabel('x axis lable', fontsize=16)             # x label    \n",
        "ax.legend(loc='best')                                  # legend\n",
        "ax.grid(True)                                          # show grid\n",
        "fig.suptitle('Sample Plot Title')                      # title\n",
        "fig.tight_layout(pad=1)                                # tidy laytout\n",
        "# fig.savefig('filename.png', dpi=125)  "
      ],
      "execution_count": 0,
      "outputs": []
    },
    {
      "cell_type": "markdown",
      "metadata": {
        "id": "MdtjSY4XDMzq",
        "colab_type": "text"
      },
      "source": [
        "### Multiple lines on same axis"
      ]
    },
    {
      "cell_type": "code",
      "metadata": {
        "id": "tfgTNFpTDMzs",
        "colab_type": "code",
        "colab": {}
      },
      "source": [
        "# get the Figure and Axes all at once\n",
        "fig, ax = plt.subplots(figsize=(8,4))\n",
        "\n",
        "x1 = np.linspace(0, 100, 20) \n",
        "x2 = np.linspace(0, 100, 20)\n",
        "x3 = np.linspace(0, 100, 20)\n",
        "y1 = np.sin(x1)\n",
        "y2 = np.cos(x2)\n",
        "y3 = np.tan(x3)\n",
        "\n",
        "ax.plot(x1, y1, label='sin')\n",
        "ax.plot(x2, y2, label='cos')\n",
        "ax.plot(x3, y3, label='tan')\n",
        "\n",
        "# add grid, legend, title and save \n",
        "ax.grid(True) \n",
        "\n",
        "ax.legend(loc='best', prop={'size':'large'}) \n",
        "\n",
        "fig.suptitle('A Simple Multi Axis Line Plot')\n",
        "# fig.savefig('filename.png', dpi=125) "
      ],
      "execution_count": 0,
      "outputs": []
    },
    {
      "cell_type": "code",
      "metadata": {
        "id": "eQjyoRhS0U6y",
        "colab_type": "code",
        "colab": {}
      },
      "source": [
        ""
      ],
      "execution_count": 0,
      "outputs": []
    },
    {
      "cell_type": "code",
      "metadata": {
        "id": "VG2zD9LU0QvC",
        "colab_type": "code",
        "colab": {}
      },
      "source": [
        ""
      ],
      "execution_count": 0,
      "outputs": []
    },
    {
      "cell_type": "markdown",
      "metadata": {
        "id": "hrTO_dsjDMzv",
        "colab_type": "text"
      },
      "source": [
        "### Mulitple lines on different axis"
      ]
    },
    {
      "cell_type": "code",
      "metadata": {
        "id": "5KJjtZCaDMzw",
        "colab_type": "code",
        "colab": {}
      },
      "source": [
        "# Changing sharex to True will use the same x axis\n",
        "fig, (ax1,ax2,ax3) = plt.subplots(nrows=3, ncols=1, sharex=False, sharey = False, figsize=(8,4))\n",
        "\n",
        "# plot some lines \n",
        "x1 = np.linspace(0, 100, 20) \n",
        "x2 = np.linspace(0, 100, 20)\n",
        "x3 = np.linspace(0, 100, 20)\n",
        "y1 = np.sin(x1)\n",
        "y2 = np.cos(x2)\n",
        "y3 = np.tan(x3)\n",
        "\n",
        "ax1.plot(x1, y1, label='sin')\n",
        "ax2.plot(x2, y2, label='cos')\n",
        "ax3.plot(x3, y3, label='tan')\n",
        "\n",
        "# add grid, legend, title and save \n",
        "ax1.grid(True) \n",
        "ax2.grid(True)\n",
        "ax3.grid(True)\n",
        "\n",
        "ax1.legend(loc='best', prop={'size':'large'}) \n",
        "ax2.legend(loc='best', prop={'size':'large'}) \n",
        "ax3.legend(loc='best', prop={'size':'large'}) \n",
        "\n",
        "fig.suptitle('A Simple Multi Axis Line Plot')\n",
        "# fig.savefig('filename.png', dpi=125) "
      ],
      "execution_count": 0,
      "outputs": []
    },
    {
      "cell_type": "markdown",
      "metadata": {
        "id": "2wZkJiCIDMz0",
        "colab_type": "text"
      },
      "source": [
        "### Control line style and marker style"
      ]
    },
    {
      "cell_type": "code",
      "metadata": {
        "id": "KKO7R7VPDMz1",
        "colab_type": "code",
        "colab": {}
      },
      "source": [
        "# get the Figure and Axes all at once \n",
        "fig, ax = plt.subplots(figsize=(8,4)) \n",
        "# plot some lines \n",
        "N = 3 # the number of lines we will plot \n",
        "styles =  ['-', '--', '-.', ':'] \n",
        "markers = list('+ox') \n",
        "x = np.linspace(0, 100, 20) \n",
        "for i in range(N): # add line-by-line     \n",
        "    y = x + x/5*i + i     \n",
        "    s = styles[i % len(styles)]     \n",
        "    m = markers[i % len(markers)]     \n",
        "    ax.plot(x, y, alpha = 1, label='Line '+str(i+1)+' '+s+m,       \n",
        "                  marker=m, linewidth=2, linestyle=s) \n",
        "# add grid, legend, title and save \n",
        "ax.grid(True) \n",
        "ax.legend(loc='best', prop={'size':'large'}) \n",
        "fig.suptitle('A Simple Line Plot')\n",
        "fig.savefig('filename.png', dpi=125) "
      ],
      "execution_count": 0,
      "outputs": []
    },
    {
      "cell_type": "markdown",
      "metadata": {
        "id": "3s29yeECDMz3",
        "colab_type": "text"
      },
      "source": [
        "### Bar plots – using ax.bar() and ax.barh() \n",
        "\n",
        "A simple bar chart."
      ]
    },
    {
      "cell_type": "code",
      "metadata": {
        "id": "I-OTlMA5DMz4",
        "colab_type": "code",
        "colab": {}
      },
      "source": [
        "# get the data\n",
        "N = 4 \n",
        "labels = list('ABCD') \n",
        "data = np.array(range(N)) + np.random.rand(N)\n",
        "\n",
        "#plot the data \n",
        "fig, ax = plt.subplots(figsize=(8, 3.5)) \n",
        "width = 0.5;  \n",
        "tickLocations = np.arange(N) \n",
        "rectLocations = tickLocations-(width/2.0) \n",
        "\n",
        "# for color either HEX value of the name of the color can be used\n",
        "ax.bar(rectLocations, data, width,      \n",
        "       color='lightblue',     \n",
        "       edgecolor='#1f10ed', linewidth=4.0) \n",
        "# tidy-up the plot \n",
        "ax.set_xticks(ticks= tickLocations)\n",
        "ax.set_xticklabels(labels) \n",
        "ax.set_xlim(min(tickLocations)-0.6, max(tickLocations)+0.6) \n",
        "ax.set_yticks(range(N)[1:]) \n",
        "ax.set_ylim((0,N)) \n",
        "ax.set_ylabel('y axis label', fontsize=8)             # y label\n",
        "ax.set_xlabel('x axis lable', fontsize=8)             # x label    \n",
        "ax.yaxis.grid(True)\n",
        "# title and save \n",
        "fig.suptitle(\"Bar Plot\") \n",
        "fig.tight_layout(pad=2) \n",
        "# fig.savefig('filename.png', dpi=125)"
      ],
      "execution_count": 0,
      "outputs": []
    },
    {
      "cell_type": "markdown",
      "metadata": {
        "id": "pOJwgiRcDMz6",
        "colab_type": "text"
      },
      "source": [
        "### Horizontal bar charts \n",
        "\n",
        "Just as tick placement needs to be managed with vertical bars; so with horizontal bars which are above the y-tick mark"
      ]
    },
    {
      "cell_type": "code",
      "metadata": {
        "id": "a2A4wm9GDMz7",
        "colab_type": "code",
        "colab": {}
      },
      "source": [
        "# get the data\n",
        "N = 4 \n",
        "labels = list('ABCD') \n",
        "data = np.array(range(N)) + np.random.rand(N)\n",
        "\n",
        "#plot the data \n",
        "fig, ax = plt.subplots(figsize=(8, 3.5)) \n",
        "width = 0.5;  \n",
        "tickLocations = np.arange(N) \n",
        "rectLocations = tickLocations-(width/2.0) \n",
        "\n",
        "# for color either HEX value of the name of the color can be used\n",
        "ax.barh(rectLocations, data, width, color='lightblue') \n",
        "# tidy-up the plot \n",
        "ax.set_yticks(ticks= tickLocations)\n",
        "ax.set_yticklabels(labels) \n",
        "ax.set_ylim(min(tickLocations)-0.6, max(tickLocations)+0.6) \n",
        "ax.xaxis.grid(True)\n",
        "ax.set_ylabel('y axis label', fontsize=8)             # y label\n",
        "ax.set_xlabel('x axis lable', fontsize=8)             # x label \n",
        "# title and save \n",
        "fig.suptitle(\"Bar Plot\") \n",
        "fig.tight_layout(pad=2) \n",
        "# fig.savefig('filename.png', dpi=125)"
      ],
      "execution_count": 0,
      "outputs": []
    },
    {
      "cell_type": "markdown",
      "metadata": {
        "id": "sQ2e_RaaDM0A",
        "colab_type": "text"
      },
      "source": [
        "### Side by side bar chart "
      ]
    },
    {
      "cell_type": "code",
      "metadata": {
        "id": "sweR3UCnDM0B",
        "colab_type": "code",
        "colab": {}
      },
      "source": [
        "# generate sample data\n",
        "pre = np.array([19, 6, 11, 9]) \n",
        "post = np.array([15, 11, 9, 8]) \n",
        "labels=['Survey '+x for x in list('ABCD')] \n",
        "# the plot – left then right \n",
        "fig, ax = plt.subplots(figsize=(8, 3.5)) \n",
        "width = 0.4 # bar width \n",
        "xlocs = np.arange(len(pre)) \n",
        "ax.bar(xlocs-width, pre, width,       \n",
        "       color='green', label='True') \n",
        "ax.bar(xlocs, post, width,       \n",
        "       color='#1f10ed', label='False')\n",
        "# labels, grids and title, then save \n",
        "ax.set_xticks(ticks=range(len(pre))) \n",
        "ax.set_xticklabels(labels) \n",
        "ax.yaxis.grid(True) \n",
        "ax.legend(loc='best') \n",
        "ax.set_ylabel('Count') \n",
        "fig.suptitle('Sample Chart') \n",
        "fig.tight_layout(pad=1) \n",
        "# fig.savefig('filename.png', dpi=125) "
      ],
      "execution_count": 0,
      "outputs": []
    },
    {
      "cell_type": "markdown",
      "metadata": {
        "id": "Ct610RUnDM0H",
        "colab_type": "text"
      },
      "source": [
        "### Stacked bar "
      ]
    },
    {
      "cell_type": "code",
      "metadata": {
        "id": "UxjyAw5MDM0I",
        "colab_type": "code",
        "colab": {}
      },
      "source": [
        "# generate sample data\n",
        "pre = np.array([19, 6, 11, 9]) \n",
        "post = np.array([15, 11, 9, 8]) \n",
        "labels=['Survey '+x for x in list('ABCD')] \n",
        "# the plot – left then right \n",
        "fig, ax = plt.subplots(figsize=(8, 3.5)) \n",
        "width = 0.4 # bar width \n",
        "xlocs = np.arange(len(pre)+2) \n",
        "adjlocs = xlocs[1:-1] - width/2.0 \n",
        "ax.bar(adjlocs, pre, width,       \n",
        "       color='grey', label='True') \n",
        "ax.bar(adjlocs, post, width,       \n",
        "       color='cyan', label='False',\n",
        "       bottom=pre)\n",
        "# labels, grids and title, then save \n",
        "ax.set_xticks(ticks=xlocs[1:-1]) \n",
        "ax.set_xticklabels(labels) \n",
        "ax.yaxis.grid(True) \n",
        "ax.legend(loc='best') \n",
        "ax.set_ylabel('Count') \n",
        "fig.suptitle('Sample Chart') \n",
        "fig.tight_layout(pad=1) \n",
        "# fig.savefig('filename.png', dpi=125) "
      ],
      "execution_count": 0,
      "outputs": []
    },
    {
      "cell_type": "markdown",
      "metadata": {
        "id": "RDe20fSdDM0L",
        "colab_type": "text"
      },
      "source": [
        "### Pie Chart – using ax.pie() "
      ]
    },
    {
      "cell_type": "code",
      "metadata": {
        "id": "kKFnREgXDM0L",
        "colab_type": "code",
        "colab": {}
      },
      "source": [
        "# generate sample data \n",
        "data = np.array([15,8,4]) \n",
        "labels = ['Feature Engineering', 'Model Tuning', 'Model Building']\n",
        "explode = (0, 0.1, 0) # explode feature engineering  \n",
        "colrs=['cyan', 'tan', 'wheat']\n",
        "# plot \n",
        "fig, ax = plt.subplots(figsize=(8, 3.5)) \n",
        "ax.pie(data, explode=explode,     \n",
        "       labels=labels, autopct='%1.1f%%',     \n",
        "       startangle=270, colors=colrs) \n",
        "ax.axis('equal') # keep it a circle\n",
        "# tidy-up and save \n",
        "fig.suptitle(\"ML Pie\") \n",
        "# fig.savefig('filename.png', dpi=125)"
      ],
      "execution_count": 0,
      "outputs": []
    },
    {
      "cell_type": "code",
      "metadata": {
        "id": "HXVnhFm8DM0O",
        "colab_type": "code",
        "colab": {}
      },
      "source": [
        "# Simple subplot grid layouts \n",
        "fig = plt.figure(figsize=(8,4)) \n",
        "fig.text(x=0.01, y=0.01, s='Figure',color='#888888', ha='left', va='bottom', fontsize=20) \n",
        "\n",
        "for i in range(4):     \n",
        "    # fig.add_subplot(nrows, ncols, num)     \n",
        "    ax = fig.add_subplot(2, 2, i+1)      \n",
        "    ax.text(x=0.01, y=0.01, s='Subplot 2 2 '+str(i+1),  color='red', ha='left', va='bottom', fontsize=20)    \n",
        "    ax.set_xticks([]); ax.set_yticks([]) \n",
        "ax.set_xticks([]); ax.set_yticks([])\n",
        "fig.suptitle('Subplots')\n",
        "#fig.savefig('filename.png', dpi=125) "
      ],
      "execution_count": 0,
      "outputs": []
    },
    {
      "cell_type": "markdown",
      "metadata": {
        "id": "uwWo3IT6DM0R",
        "colab_type": "text"
      },
      "source": [
        "# Plotting – defaults \n",
        "\n",
        "Configuration files Matplotlib uses configuration files to set the defaults. So that you can edit it, the location of the configuration file can be found as follows:"
      ]
    },
    {
      "cell_type": "code",
      "metadata": {
        "id": "oiRf7cSuDM0S",
        "colab_type": "code",
        "colab": {}
      },
      "source": [
        "print (matplotlib.matplotlib_fname()) "
      ],
      "execution_count": 0,
      "outputs": []
    },
    {
      "cell_type": "code",
      "metadata": {
        "id": "IYvATb3uDM0W",
        "colab_type": "code",
        "colab": {}
      },
      "source": [
        "# Configuration settings The current configuration settings \n",
        "\n",
        "print (matplotlib.rcParams) "
      ],
      "execution_count": 0,
      "outputs": []
    },
    {
      "cell_type": "code",
      "metadata": {
        "id": "ZRfJW51oDM0Y",
        "colab_type": "code",
        "colab": {}
      },
      "source": [
        "# Change the default settings \n",
        "\n",
        "plt.rc('figure', figsize=(8,4), dpi=125,facecolor='white', edgecolor='white')\n",
        "plt.rc('axes', facecolor='#e5e5e5',  grid=True, linewidth=1.0, axisbelow=True)\n",
        "plt.rc('grid', color='white', linestyle='-',    linewidth=2.0, alpha=1.0) \n",
        "plt.rc('xtick', direction='out') \n",
        "plt.rc('ytick', direction='out') \n",
        "plt.rc('legend', loc='best') \n",
        " "
      ],
      "execution_count": 0,
      "outputs": []
    }
  ]
}